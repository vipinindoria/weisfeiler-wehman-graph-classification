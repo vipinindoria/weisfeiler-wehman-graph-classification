{
 "cells": [
  {
   "cell_type": "code",
   "execution_count": 1,
   "metadata": {},
   "outputs": [
    {
     "name": "stderr",
     "output_type": "stream",
     "text": [
      "C:\\Users\\vipin\\anaconda3\\lib\\site-packages\\scipy\\__init__.py:146: UserWarning: A NumPy version >=1.16.5 and <1.23.0 is required for this version of SciPy (detected version 1.24.2\n",
      "  warnings.warn(f\"A NumPy version >={np_minversion} and <{np_maxversion}\"\n"
     ]
    }
   ],
   "source": [
    "import urllib.request\n",
    "import zipfile\n",
    "import pandas as pd\n",
    "import os\n",
    "from grakel import Graph\n",
    "import networkx as nx\n",
    "import json\n",
    "import random\n",
    "import numpy as np\n",
    "from grakel.datasets import fetch_dataset\n",
    "from grakel.kernels import WeisfeilerLehman, VertexHistogram\n",
    "from sklearn.model_selection import train_test_split\n",
    "from sklearn.svm import SVC\n",
    "from sklearn.metrics import accuracy_score, classification_report"
   ]
  },
  {
   "cell_type": "code",
   "execution_count": 2,
   "metadata": {},
   "outputs": [],
   "source": [
    "# Download the dataset zip file\n",
    "url = \"https://snap.stanford.edu/data/github_stargazers.zip\"\n",
    "filepath = \"./../data/github_stargazers.zip\"\n",
    "if not os.path.isfile(filepath):\n",
    "    urllib.request.urlretrieve(url, filepath)\n",
    "\n",
    "    # Extract the csv file from the zip file\n",
    "    with zipfile.ZipFile(filepath, 'r') as zip_ref:\n",
    "        zip_ref.extractall('./../data/')"
   ]
  },
  {
   "cell_type": "code",
   "execution_count": 3,
   "metadata": {},
   "outputs": [],
   "source": [
    "# Step 1: Load the graph data and target classes\n",
    "with open(\"./../data/github_stargazers/git_edges.json\", \"r\") as f:\n",
    "    edges = json.load(f)\n",
    "    \n",
    "targets = pd.read_csv(\"./../data/github_stargazers/git_target.csv\", index_col=0)"
   ]
  },
  {
   "cell_type": "code",
   "execution_count": 16,
   "metadata": {
    "scrolled": false
   },
   "outputs": [],
   "source": [
    "# Limit the number of graphs to approximately 100 with an equal distribution of all classes\n",
    "graph_ids = []\n",
    "for i in range(2):\n",
    "    class_ids = targets[targets[\"target\"] == i].index.tolist()\n",
    "    class_ids = random.sample(class_ids, min(len(class_ids), 100))\n",
    "    graph_ids.extend(class_ids)"
   ]
  },
  {
   "cell_type": "code",
   "execution_count": 18,
   "metadata": {},
   "outputs": [],
   "source": [
    "# Filter the graph data and target classes based on the selected graph ids\n",
    "edges = {graph_id: edges[str(graph_id)] for graph_id in graph_ids}\n",
    "targets = targets.loc[graph_ids]"
   ]
  },
  {
   "cell_type": "code",
   "execution_count": 19,
   "metadata": {},
   "outputs": [],
   "source": [
    "# Step 2: Convert the graph data into a suitable format\n",
    "graphs = []\n",
    "for graph_id in graph_ids:\n",
    "    graph_edges = edges[graph_id]\n",
    "    mat_ij = max([x[0] for x in graph_edges] + [x[1] for x in graph_edges]) + 1\n",
    "    adj_matrix = np.zeros((mat_ij, mat_ij))\n",
    "    node_labels = {}\n",
    "    node_id = 0\n",
    "    for edge in graph_edges:\n",
    "        if edge[0] not in node_labels:\n",
    "            node_labels[edge[0]] = str(node_id)\n",
    "            node_id += 1\n",
    "        if edge[1] not in node_labels:\n",
    "            node_labels[edge[1]] = str(node_id)\n",
    "            node_id += 1\n",
    "        adj_matrix[node_id-1][node_id-2] = 1\n",
    "        adj_matrix[node_id-2][node_id-1] = 1\n",
    "    graphs.append(Graph(adj_matrix, node_labels=node_labels))"
   ]
  },
  {
   "cell_type": "code",
   "execution_count": 33,
   "metadata": {},
   "outputs": [],
   "source": [
    "# Step 3: Extract features using the Weisfeiler-Lehman graph kernel\n",
    "wl_kernel = WeisfeilerLehman(n_iter=5)\n",
    "X_wl = wl_kernel.fit_transform(graphs)"
   ]
  },
  {
   "cell_type": "code",
   "execution_count": 34,
   "metadata": {},
   "outputs": [],
   "source": [
    "# Step 4: Train a machine learning model on the extracted features\n",
    "X_train, X_test, y_train, y_test = train_test_split(X_wl, targets[\"target\"], test_size=0.2, random_state=42)\n",
    "\n",
    "clf = SVC(kernel=\"rbf\", gamma=0.01, C=1.0)\n",
    "clf.fit(X_train, y_train)\n",
    "y_pred = clf.predict(X_test)"
   ]
  },
  {
   "cell_type": "code",
   "execution_count": 35,
   "metadata": {},
   "outputs": [
    {
     "name": "stdout",
     "output_type": "stream",
     "text": [
      "Accuracy: 0.475\n",
      "Classification report: \n",
      "              precision    recall  f1-score   support\n",
      "\n",
      "           0       0.00      0.00      0.00        21\n",
      "           1       0.47      1.00      0.64        19\n",
      "\n",
      "    accuracy                           0.48        40\n",
      "   macro avg       0.24      0.50      0.32        40\n",
      "weighted avg       0.23      0.47      0.31        40\n",
      "\n"
     ]
    },
    {
     "name": "stderr",
     "output_type": "stream",
     "text": [
      "C:\\Users\\vipin\\anaconda3\\lib\\site-packages\\sklearn\\metrics\\_classification.py:1248: UndefinedMetricWarning: Precision and F-score are ill-defined and being set to 0.0 in labels with no predicted samples. Use `zero_division` parameter to control this behavior.\n",
      "  _warn_prf(average, modifier, msg_start, len(result))\n",
      "C:\\Users\\vipin\\anaconda3\\lib\\site-packages\\sklearn\\metrics\\_classification.py:1248: UndefinedMetricWarning: Precision and F-score are ill-defined and being set to 0.0 in labels with no predicted samples. Use `zero_division` parameter to control this behavior.\n",
      "  _warn_prf(average, modifier, msg_start, len(result))\n",
      "C:\\Users\\vipin\\anaconda3\\lib\\site-packages\\sklearn\\metrics\\_classification.py:1248: UndefinedMetricWarning: Precision and F-score are ill-defined and being set to 0.0 in labels with no predicted samples. Use `zero_division` parameter to control this behavior.\n",
      "  _warn_prf(average, modifier, msg_start, len(result))\n"
     ]
    }
   ],
   "source": [
    "# Step 5: Evaluate the model\n",
    "accuracy = accuracy_score(y_test, y_pred)\n",
    "report = classification_report(y_test, y_pred)\n",
    "print(f\"Accuracy: {accuracy}\")\n",
    "print(f\"Classification report: \\n{report}\")"
   ]
  },
  {
   "cell_type": "code",
   "execution_count": null,
   "metadata": {},
   "outputs": [],
   "source": []
  }
 ],
 "metadata": {
  "kernelspec": {
   "display_name": "Python 3 (ipykernel)",
   "language": "python",
   "name": "python3"
  },
  "language_info": {
   "codemirror_mode": {
    "name": "ipython",
    "version": 3
   },
   "file_extension": ".py",
   "mimetype": "text/x-python",
   "name": "python",
   "nbconvert_exporter": "python",
   "pygments_lexer": "ipython3",
   "version": "3.9.7"
  }
 },
 "nbformat": 4,
 "nbformat_minor": 4
}
